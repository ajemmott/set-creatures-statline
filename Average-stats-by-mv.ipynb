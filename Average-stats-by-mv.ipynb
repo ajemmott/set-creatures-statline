{
 "cells": [
  {
   "cell_type": "markdown",
   "metadata": {},
   "source": [
    "# Average Creature Stats by Mana Value"
   ]
  },
  {
   "cell_type": "markdown",
   "metadata": {},
   "source": [
    "In this notebook i want to make my first attempt at understanding how creature stats can influence performance of a card in a limited environment. To do this, i chose to begin with the set *Adventures in the Forgotten Realms* (AFR for short) as it is a very simple set (no double sided cards)."
   ]
  },
  {
   "cell_type": "markdown",
   "metadata": {},
   "source": [
    "## Adquiring the Data"
   ]
  },
  {
   "cell_type": "markdown",
   "metadata": {},
   "source": [
    "The data i'll be using comes from [Scryfall's API](https://scryfall.com/docs/api) theres not much thought into this decision it's just the mtg data source that i like and know how to use. To access the data i wrote a python class that will handle the pagination of the query result immediately."
   ]
  },
  {
   "cell_type": "markdown",
   "metadata": {},
   "source": [
    "```\n",
    "import requests\n",
    "from time import sleep\n",
    "\n",
    "class ScryfallCardQuery_v2:\n",
    "    def __init__(self, query_string):\n",
    "        self.response = requests.get('https://api.scryfall.com/cards/search?q=' + query_string).json()\n",
    "        self.data = self.response['data']\n",
    "        sleep(0.1)\n",
    "        if self.response['has_more']:\n",
    "            self.data += self.get_next_pages(self.response['next_page']) \n",
    "    \n",
    "    def get_next_pages(self, next_page):\n",
    "        next_data = requests.get(next_page).json()\n",
    "\n",
    "        if next_data['has_more']:\n",
    "            sleep(0.1)\n",
    "            return next_data['data'] + self.get_next_pages(next_data['next_page'])\n",
    "        else:\n",
    "            return next_data['data']\n",
    "```"
   ]
  },
  {
   "cell_type": "markdown",
   "metadata": {},
   "source": [
    "To make a query with this class you just have to import it and send the scryfall query string as an argument. Given i want to see the common and uncommon creatures in AFR then my query should be: \n",
    "\n",
    " `type:creature set:afr (rarity:common or r:uncommon) -is:rebalanced` \n",
    "\n",
    "the last bit of the query is required to prevent the alchemy rebalanced version of cards from popping up in the results. In my code i used the shorthand version of this query but the results should be the same.\n",
    "\n",
    " In addition to this, i want this resulting data to be stored as a pandas DataFrame which is designed for data manipulation"
   ]
  },
  {
   "cell_type": "code",
   "execution_count": 37,
   "metadata": {},
   "outputs": [
    {
     "data": {
      "text/html": [
       "<div>\n",
       "<style scoped>\n",
       "    .dataframe tbody tr th:only-of-type {\n",
       "        vertical-align: middle;\n",
       "    }\n",
       "\n",
       "    .dataframe tbody tr th {\n",
       "        vertical-align: top;\n",
       "    }\n",
       "\n",
       "    .dataframe thead th {\n",
       "        text-align: right;\n",
       "    }\n",
       "</style>\n",
       "<table border=\"1\" class=\"dataframe\">\n",
       "  <thead>\n",
       "    <tr style=\"text-align: right;\">\n",
       "      <th></th>\n",
       "      <th>object</th>\n",
       "      <th>id</th>\n",
       "      <th>oracle_id</th>\n",
       "      <th>multiverse_ids</th>\n",
       "      <th>mtgo_id</th>\n",
       "      <th>arena_id</th>\n",
       "      <th>tcgplayer_id</th>\n",
       "      <th>cardmarket_id</th>\n",
       "      <th>name</th>\n",
       "      <th>lang</th>\n",
       "      <th>...</th>\n",
       "      <th>edhrec_rank</th>\n",
       "      <th>preview</th>\n",
       "      <th>prices</th>\n",
       "      <th>related_uris</th>\n",
       "      <th>purchase_uris</th>\n",
       "      <th>flavor_text</th>\n",
       "      <th>penny_rank</th>\n",
       "      <th>all_parts</th>\n",
       "      <th>frame_effects</th>\n",
       "      <th>produced_mana</th>\n",
       "    </tr>\n",
       "  </thead>\n",
       "  <tbody>\n",
       "    <tr>\n",
       "      <th>0</th>\n",
       "      <td>card</td>\n",
       "      <td>d9c6401a-e152-4acf-a2ca-75c484f296d5</td>\n",
       "      <td>753ead8c-f3f8-42fe-931d-79f5ee3ece54</td>\n",
       "      <td>[527331]</td>\n",
       "      <td>91590</td>\n",
       "      <td>77149</td>\n",
       "      <td>243580</td>\n",
       "      <td>571887</td>\n",
       "      <td>Aberrant Mind Sorcerer</td>\n",
       "      <td>en</td>\n",
       "      <td>...</td>\n",
       "      <td>10635</td>\n",
       "      <td>{'source': 'Neo Tokyo Project', 'source_uri': ...</td>\n",
       "      <td>{'usd': '0.04', 'usd_foil': '0.09', 'usd_etche...</td>\n",
       "      <td>{'gatherer': 'https://gatherer.wizards.com/Pag...</td>\n",
       "      <td>{'tcgplayer': 'https://www.tcgplayer.com/produ...</td>\n",
       "      <td>NaN</td>\n",
       "      <td>NaN</td>\n",
       "      <td>NaN</td>\n",
       "      <td>NaN</td>\n",
       "      <td>NaN</td>\n",
       "    </tr>\n",
       "    <tr>\n",
       "      <th>1</th>\n",
       "      <td>card</td>\n",
       "      <td>fba82564-a9a9-4ded-a5fa-0e5fab2a3faa</td>\n",
       "      <td>6ec2d957-c6d9-469f-8190-8b621c490238</td>\n",
       "      <td>[527332]</td>\n",
       "      <td>91592</td>\n",
       "      <td>77150</td>\n",
       "      <td>243149</td>\n",
       "      <td>571242</td>\n",
       "      <td>Air-Cult Elemental</td>\n",
       "      <td>en</td>\n",
       "      <td>...</td>\n",
       "      <td>15308</td>\n",
       "      <td>NaN</td>\n",
       "      <td>{'usd': '0.01', 'usd_foil': '0.05', 'usd_etche...</td>\n",
       "      <td>{'gatherer': 'https://gatherer.wizards.com/Pag...</td>\n",
       "      <td>{'tcgplayer': 'https://www.tcgplayer.com/produ...</td>\n",
       "      <td>Elemental Evil distorts the natural elements, ...</td>\n",
       "      <td>NaN</td>\n",
       "      <td>NaN</td>\n",
       "      <td>NaN</td>\n",
       "      <td>NaN</td>\n",
       "    </tr>\n",
       "    <tr>\n",
       "      <th>2</th>\n",
       "      <td>card</td>\n",
       "      <td>fc45c9d4-ecc7-4a9d-9efe-f4b7d697dd97</td>\n",
       "      <td>9a17452d-3adb-42ec-99f8-0083740cefa0</td>\n",
       "      <td>[527289]</td>\n",
       "      <td>91506</td>\n",
       "      <td>77107</td>\n",
       "      <td>243434</td>\n",
       "      <td>571841</td>\n",
       "      <td>Arborea Pegasus</td>\n",
       "      <td>en</td>\n",
       "      <td>...</td>\n",
       "      <td>16970</td>\n",
       "      <td>{'source': 'Wizards of the Coast', 'source_uri...</td>\n",
       "      <td>{'usd': '0.01', 'usd_foil': '0.04', 'usd_etche...</td>\n",
       "      <td>{'gatherer': 'https://gatherer.wizards.com/Pag...</td>\n",
       "      <td>{'tcgplayer': 'https://www.tcgplayer.com/produ...</td>\n",
       "      <td>The noble steeds of the elven gods can sometim...</td>\n",
       "      <td>NaN</td>\n",
       "      <td>NaN</td>\n",
       "      <td>NaN</td>\n",
       "      <td>NaN</td>\n",
       "    </tr>\n",
       "    <tr>\n",
       "      <th>3</th>\n",
       "      <td>card</td>\n",
       "      <td>dc457520-9947-4f65-bbe7-9b95bd2c23af</td>\n",
       "      <td>19b229c4-1c21-4c7c-a25e-4e8c1cd4ed4b</td>\n",
       "      <td>[527333]</td>\n",
       "      <td>91594</td>\n",
       "      <td>77151</td>\n",
       "      <td>243275</td>\n",
       "      <td>571399</td>\n",
       "      <td>Arcane Investigator</td>\n",
       "      <td>en</td>\n",
       "      <td>...</td>\n",
       "      <td>11393</td>\n",
       "      <td>NaN</td>\n",
       "      <td>{'usd': '0.03', 'usd_foil': '0.04', 'usd_etche...</td>\n",
       "      <td>{'gatherer': 'https://gatherer.wizards.com/Pag...</td>\n",
       "      <td>{'tcgplayer': 'https://www.tcgplayer.com/produ...</td>\n",
       "      <td>NaN</td>\n",
       "      <td>13104.0</td>\n",
       "      <td>NaN</td>\n",
       "      <td>NaN</td>\n",
       "      <td>NaN</td>\n",
       "    </tr>\n",
       "    <tr>\n",
       "      <th>4</th>\n",
       "      <td>card</td>\n",
       "      <td>4177f57e-c239-47e8-ae50-5f593f6d54ec</td>\n",
       "      <td>2b51bbb3-1514-4a79-861f-b9cec9f0ec1b</td>\n",
       "      <td>[527417]</td>\n",
       "      <td>91762</td>\n",
       "      <td>77235</td>\n",
       "      <td>243427</td>\n",
       "      <td>571854</td>\n",
       "      <td>Armory Veteran</td>\n",
       "      <td>en</td>\n",
       "      <td>...</td>\n",
       "      <td>15250</td>\n",
       "      <td>NaN</td>\n",
       "      <td>{'usd': '0.02', 'usd_foil': '0.02', 'usd_etche...</td>\n",
       "      <td>{'gatherer': 'https://gatherer.wizards.com/Pag...</td>\n",
       "      <td>{'tcgplayer': 'https://www.tcgplayer.com/produ...</td>\n",
       "      <td>\"This one is for goblins, this one is for owlb...</td>\n",
       "      <td>NaN</td>\n",
       "      <td>[{'object': 'related_card', 'id': '423f13ba-e1...</td>\n",
       "      <td>NaN</td>\n",
       "      <td>NaN</td>\n",
       "    </tr>\n",
       "  </tbody>\n",
       "</table>\n",
       "<p>5 rows × 68 columns</p>\n",
       "</div>"
      ],
      "text/plain": [
       "  object                                    id  \\\n",
       "0   card  d9c6401a-e152-4acf-a2ca-75c484f296d5   \n",
       "1   card  fba82564-a9a9-4ded-a5fa-0e5fab2a3faa   \n",
       "2   card  fc45c9d4-ecc7-4a9d-9efe-f4b7d697dd97   \n",
       "3   card  dc457520-9947-4f65-bbe7-9b95bd2c23af   \n",
       "4   card  4177f57e-c239-47e8-ae50-5f593f6d54ec   \n",
       "\n",
       "                              oracle_id multiverse_ids  mtgo_id  arena_id  \\\n",
       "0  753ead8c-f3f8-42fe-931d-79f5ee3ece54       [527331]    91590     77149   \n",
       "1  6ec2d957-c6d9-469f-8190-8b621c490238       [527332]    91592     77150   \n",
       "2  9a17452d-3adb-42ec-99f8-0083740cefa0       [527289]    91506     77107   \n",
       "3  19b229c4-1c21-4c7c-a25e-4e8c1cd4ed4b       [527333]    91594     77151   \n",
       "4  2b51bbb3-1514-4a79-861f-b9cec9f0ec1b       [527417]    91762     77235   \n",
       "\n",
       "   tcgplayer_id  cardmarket_id                    name lang  ... edhrec_rank  \\\n",
       "0        243580         571887  Aberrant Mind Sorcerer   en  ...       10635   \n",
       "1        243149         571242      Air-Cult Elemental   en  ...       15308   \n",
       "2        243434         571841         Arborea Pegasus   en  ...       16970   \n",
       "3        243275         571399     Arcane Investigator   en  ...       11393   \n",
       "4        243427         571854          Armory Veteran   en  ...       15250   \n",
       "\n",
       "                                             preview  \\\n",
       "0  {'source': 'Neo Tokyo Project', 'source_uri': ...   \n",
       "1                                                NaN   \n",
       "2  {'source': 'Wizards of the Coast', 'source_uri...   \n",
       "3                                                NaN   \n",
       "4                                                NaN   \n",
       "\n",
       "                                              prices  \\\n",
       "0  {'usd': '0.04', 'usd_foil': '0.09', 'usd_etche...   \n",
       "1  {'usd': '0.01', 'usd_foil': '0.05', 'usd_etche...   \n",
       "2  {'usd': '0.01', 'usd_foil': '0.04', 'usd_etche...   \n",
       "3  {'usd': '0.03', 'usd_foil': '0.04', 'usd_etche...   \n",
       "4  {'usd': '0.02', 'usd_foil': '0.02', 'usd_etche...   \n",
       "\n",
       "                                        related_uris  \\\n",
       "0  {'gatherer': 'https://gatherer.wizards.com/Pag...   \n",
       "1  {'gatherer': 'https://gatherer.wizards.com/Pag...   \n",
       "2  {'gatherer': 'https://gatherer.wizards.com/Pag...   \n",
       "3  {'gatherer': 'https://gatherer.wizards.com/Pag...   \n",
       "4  {'gatherer': 'https://gatherer.wizards.com/Pag...   \n",
       "\n",
       "                                       purchase_uris  \\\n",
       "0  {'tcgplayer': 'https://www.tcgplayer.com/produ...   \n",
       "1  {'tcgplayer': 'https://www.tcgplayer.com/produ...   \n",
       "2  {'tcgplayer': 'https://www.tcgplayer.com/produ...   \n",
       "3  {'tcgplayer': 'https://www.tcgplayer.com/produ...   \n",
       "4  {'tcgplayer': 'https://www.tcgplayer.com/produ...   \n",
       "\n",
       "                                         flavor_text penny_rank  \\\n",
       "0                                                NaN        NaN   \n",
       "1  Elemental Evil distorts the natural elements, ...        NaN   \n",
       "2  The noble steeds of the elven gods can sometim...        NaN   \n",
       "3                                                NaN    13104.0   \n",
       "4  \"This one is for goblins, this one is for owlb...        NaN   \n",
       "\n",
       "                                           all_parts  frame_effects  \\\n",
       "0                                                NaN            NaN   \n",
       "1                                                NaN            NaN   \n",
       "2                                                NaN            NaN   \n",
       "3                                                NaN            NaN   \n",
       "4  [{'object': 'related_card', 'id': '423f13ba-e1...            NaN   \n",
       "\n",
       "  produced_mana  \n",
       "0           NaN  \n",
       "1           NaN  \n",
       "2           NaN  \n",
       "3           NaN  \n",
       "4           NaN  \n",
       "\n",
       "[5 rows x 68 columns]"
      ]
     },
     "execution_count": 37,
     "metadata": {},
     "output_type": "execute_result"
    }
   ],
   "source": [
    "import pandas as pd\n",
    "from ScryfallCardQuery import ScryfallCardQuery_v2 as scq\n",
    "\n",
    "afr_query = 't:creature s:afr -is:rebalanced (r:c or r:u)' \n",
    "afr_creature_full_data = pd.DataFrame(scq(afr_query).data)\n",
    "\n",
    "afr_creature_full_data.head()"
   ]
  },
  {
   "cell_type": "markdown",
   "metadata": {},
   "source": [
    "Well thats a lot of data! in this query for every card there are 69 tracked features. "
   ]
  },
  {
   "cell_type": "code",
   "execution_count": 38,
   "metadata": {},
   "outputs": [
    {
     "data": {
      "text/plain": [
       "Index(['object', 'id', 'oracle_id', 'multiverse_ids', 'mtgo_id', 'arena_id',\n",
       "       'tcgplayer_id', 'cardmarket_id', 'name', 'lang', 'released_at', 'uri',\n",
       "       'scryfall_uri', 'layout', 'highres_image', 'image_status', 'image_uris',\n",
       "       'mana_cost', 'cmc', 'type_line', 'oracle_text', 'power', 'toughness',\n",
       "       'colors', 'color_identity', 'keywords', 'legalities', 'games',\n",
       "       'reserved', 'foil', 'nonfoil', 'finishes', 'oversized', 'promo',\n",
       "       'reprint', 'variation', 'set_id', 'set', 'set_name', 'set_type',\n",
       "       'set_uri', 'set_search_uri', 'scryfall_set_uri', 'rulings_uri',\n",
       "       'prints_search_uri', 'collector_number', 'digital', 'rarity',\n",
       "       'card_back_id', 'artist', 'artist_ids', 'illustration_id',\n",
       "       'border_color', 'frame', 'full_art', 'textless', 'booster',\n",
       "       'story_spotlight', 'edhrec_rank', 'preview', 'prices', 'related_uris',\n",
       "       'purchase_uris', 'flavor_text', 'penny_rank', 'all_parts',\n",
       "       'frame_effects', 'produced_mana'],\n",
       "      dtype='object')"
      ]
     },
     "execution_count": 38,
     "metadata": {},
     "output_type": "execute_result"
    }
   ],
   "source": [
    "afr_creature_full_data.columns"
   ]
  },
  {
   "cell_type": "markdown",
   "metadata": {},
   "source": [
    "But we are not really interested in all features. For now, we'll be looking at the most basic of features surrounding combat and visualization: card name, mana value (cmc), colors, power and toughness."
   ]
  },
  {
   "cell_type": "code",
   "execution_count": 39,
   "metadata": {},
   "outputs": [
    {
     "data": {
      "text/html": [
       "<div>\n",
       "<style scoped>\n",
       "    .dataframe tbody tr th:only-of-type {\n",
       "        vertical-align: middle;\n",
       "    }\n",
       "\n",
       "    .dataframe tbody tr th {\n",
       "        vertical-align: top;\n",
       "    }\n",
       "\n",
       "    .dataframe thead th {\n",
       "        text-align: right;\n",
       "    }\n",
       "</style>\n",
       "<table border=\"1\" class=\"dataframe\">\n",
       "  <thead>\n",
       "    <tr style=\"text-align: right;\">\n",
       "      <th></th>\n",
       "      <th>name</th>\n",
       "      <th>cmc</th>\n",
       "      <th>power</th>\n",
       "      <th>toughness</th>\n",
       "      <th>colors</th>\n",
       "    </tr>\n",
       "  </thead>\n",
       "  <tbody>\n",
       "    <tr>\n",
       "      <th>0</th>\n",
       "      <td>Blink Dog</td>\n",
       "      <td>3.0</td>\n",
       "      <td>1</td>\n",
       "      <td>1</td>\n",
       "      <td>[W]</td>\n",
       "    </tr>\n",
       "    <tr>\n",
       "      <th>1</th>\n",
       "      <td>Goblin Javelineer</td>\n",
       "      <td>1.0</td>\n",
       "      <td>1</td>\n",
       "      <td>1</td>\n",
       "      <td>[R]</td>\n",
       "    </tr>\n",
       "    <tr>\n",
       "      <th>2</th>\n",
       "      <td>Guild Thief</td>\n",
       "      <td>2.0</td>\n",
       "      <td>1</td>\n",
       "      <td>1</td>\n",
       "      <td>[U]</td>\n",
       "    </tr>\n",
       "    <tr>\n",
       "      <th>3</th>\n",
       "      <td>Ingenious Smith</td>\n",
       "      <td>2.0</td>\n",
       "      <td>1</td>\n",
       "      <td>1</td>\n",
       "      <td>[W]</td>\n",
       "    </tr>\n",
       "    <tr>\n",
       "      <th>4</th>\n",
       "      <td>Monk of the Open Hand</td>\n",
       "      <td>1.0</td>\n",
       "      <td>1</td>\n",
       "      <td>1</td>\n",
       "      <td>[W]</td>\n",
       "    </tr>\n",
       "  </tbody>\n",
       "</table>\n",
       "</div>"
      ],
      "text/plain": [
       "                    name  cmc power toughness colors\n",
       "0              Blink Dog  3.0     1         1    [W]\n",
       "1      Goblin Javelineer  1.0     1         1    [R]\n",
       "2            Guild Thief  2.0     1         1    [U]\n",
       "3        Ingenious Smith  2.0     1         1    [W]\n",
       "4  Monk of the Open Hand  1.0     1         1    [W]"
      ]
     },
     "execution_count": 39,
     "metadata": {},
     "output_type": "execute_result"
    }
   ],
   "source": [
    "features = ['name', 'cmc', 'power', 'toughness', 'colors']\n",
    "afr_creature_data = afr_creature_full_data[afr_creature_full_data.layout == 'normal'][features].sort_values(by=['toughness','power']).reset_index(drop=True)\n",
    "afr_creature_data.head()"
   ]
  },
  {
   "cell_type": "markdown",
   "metadata": {},
   "source": [
    "That looks good! but we can still do better. With the way the statline of creatures (power and toughness) is currently sorted we can only interact with them individually. The problem being that when we are assesing the quality of a creature and comparing them to one another both stats are a packaged deal. In order to aquire this relationship and additional column (or pandas Series) should be added where both stats are bundled as a string making it a categorical feature."
   ]
  },
  {
   "cell_type": "code",
   "execution_count": 40,
   "metadata": {},
   "outputs": [
    {
     "data": {
      "text/html": [
       "<div>\n",
       "<style scoped>\n",
       "    .dataframe tbody tr th:only-of-type {\n",
       "        vertical-align: middle;\n",
       "    }\n",
       "\n",
       "    .dataframe tbody tr th {\n",
       "        vertical-align: top;\n",
       "    }\n",
       "\n",
       "    .dataframe thead th {\n",
       "        text-align: right;\n",
       "    }\n",
       "</style>\n",
       "<table border=\"1\" class=\"dataframe\">\n",
       "  <thead>\n",
       "    <tr style=\"text-align: right;\">\n",
       "      <th></th>\n",
       "      <th>name</th>\n",
       "      <th>cmc</th>\n",
       "      <th>power</th>\n",
       "      <th>toughness</th>\n",
       "      <th>colors</th>\n",
       "      <th>statline</th>\n",
       "    </tr>\n",
       "  </thead>\n",
       "  <tbody>\n",
       "    <tr>\n",
       "      <th>0</th>\n",
       "      <td>Blink Dog</td>\n",
       "      <td>3.0</td>\n",
       "      <td>1</td>\n",
       "      <td>1</td>\n",
       "      <td>[W]</td>\n",
       "      <td>1/1</td>\n",
       "    </tr>\n",
       "    <tr>\n",
       "      <th>1</th>\n",
       "      <td>Goblin Javelineer</td>\n",
       "      <td>1.0</td>\n",
       "      <td>1</td>\n",
       "      <td>1</td>\n",
       "      <td>[R]</td>\n",
       "      <td>1/1</td>\n",
       "    </tr>\n",
       "    <tr>\n",
       "      <th>2</th>\n",
       "      <td>Guild Thief</td>\n",
       "      <td>2.0</td>\n",
       "      <td>1</td>\n",
       "      <td>1</td>\n",
       "      <td>[U]</td>\n",
       "      <td>1/1</td>\n",
       "    </tr>\n",
       "    <tr>\n",
       "      <th>3</th>\n",
       "      <td>Ingenious Smith</td>\n",
       "      <td>2.0</td>\n",
       "      <td>1</td>\n",
       "      <td>1</td>\n",
       "      <td>[W]</td>\n",
       "      <td>1/1</td>\n",
       "    </tr>\n",
       "    <tr>\n",
       "      <th>4</th>\n",
       "      <td>Monk of the Open Hand</td>\n",
       "      <td>1.0</td>\n",
       "      <td>1</td>\n",
       "      <td>1</td>\n",
       "      <td>[W]</td>\n",
       "      <td>1/1</td>\n",
       "    </tr>\n",
       "  </tbody>\n",
       "</table>\n",
       "</div>"
      ],
      "text/plain": [
       "                    name  cmc power toughness colors statline\n",
       "0              Blink Dog  3.0     1         1    [W]      1/1\n",
       "1      Goblin Javelineer  1.0     1         1    [R]      1/1\n",
       "2            Guild Thief  2.0     1         1    [U]      1/1\n",
       "3        Ingenious Smith  2.0     1         1    [W]      1/1\n",
       "4  Monk of the Open Hand  1.0     1         1    [W]      1/1"
      ]
     },
     "execution_count": 40,
     "metadata": {},
     "output_type": "execute_result"
    }
   ],
   "source": [
    "afr_creature_statline = pd.Series([str(card['power'])+'/'+str(card['toughness'])\n",
    "                                                for i, card in afr_creature_data.iterrows()]).rename('statline')\n",
    "\n",
    "afr_creature_data = pd.concat([afr_creature_data, afr_creature_statline], axis='columns')\n",
    "afr_creature_data.head()\n"
   ]
  },
  {
   "cell_type": "markdown",
   "metadata": {},
   "source": [
    "## Visualizing the Data"
   ]
  },
  {
   "cell_type": "markdown",
   "metadata": {},
   "source": [
    "When visualizing this dataset we are interested in knowing **how much** power and toughness should be expected in a creature **at a given mana cost**. With that insight we should also be able to tell **which creatures** are poised to underperform or overperform at their given mana cost. these visualizations will be generated using seaborn."
   ]
  },
  {
   "cell_type": "markdown",
   "metadata": {},
   "source": [
    "### Statline Distribution at a Given CMC"
   ]
  },
  {
   "cell_type": "markdown",
   "metadata": {},
   "source": [
    "In order to display the relationship of a creature statline and its cmc a heatmap should do the trick.\n"
   ]
  },
  {
   "cell_type": "code",
   "execution_count": 42,
   "metadata": {},
   "outputs": [
    {
     "data": {
      "image/png": "[encoded data removed]",
      "text/plain": [
       "<Figure size 1296x288 with 2 Axes>"
      ]
     },
     "metadata": {
      "needs_background": "light"
     },
     "output_type": "display_data"
    }
   ],
   "source": [
    "import seaborn as sns\n",
    "import matplotlib.pyplot as plt\n",
    "\n",
    "%matplotlib inline\n",
    "\n",
    "unique_statlines = [statline for statline in afr_creature_data.statline.unique()]\n",
    "unique_cmc = sorted([int(cost) for cost in afr_creature_data.cmc.unique()], reverse=True)\n",
    "\n",
    "statline_vs_cmc_data = pd.DataFrame({\n",
    "    str(body):[afr_creature_data.name[(afr_creature_data.cmc == cmc) & (afr_creature_data.statline == body)].count() for cmc in unique_cmc] for body in unique_statlines\n",
    "})\n",
    "\n",
    "plt.figure(figsize=(18,4))\n",
    "plt.title(\"Number of creatures with a given statline at every mana cost\")\n",
    "\n",
    "p = sns.heatmap(data=statline_vs_cmc_data, yticklabels=unique_cmc, annot=True, cmap='magma')\n",
    "\n",
    "p.set_xlabel('Statline', fontsize=18)\n",
    "p.set_ylabel('CMC', fontsize=18)\n",
    "\n",
    "pass"
   ]
  },
  {
   "cell_type": "markdown",
   "metadata": {},
   "source": [
    "And this is our result! Now we can start having a baseline to understand what statlines are better suited for early game combat and how often certain pieces of removal should be effective. The natural following step would be to compare the statlines available to every color pair or archetype. I plan to share my attempt at showcasing this insight in the following days."
   ]
  }
 ],
 "metadata": {
  "kernelspec": {
   "display_name": "Python 3.10.2 64-bit",
   "language": "python",
   "name": "python3"
  },
  "language_info": {
   "codemirror_mode": {
    "name": "ipython",
    "version": 3
   },
   "file_extension": ".py",
   "mimetype": "text/x-python",
   "name": "python",
   "nbconvert_exporter": "python",
   "pygments_lexer": "ipython3",
   "version": "3.10.2"
  },
  "orig_nbformat": 4,
  "vscode": {
   "interpreter": {
    "hash": "afb734500600fd355917ca529030176ea0ca205570884b88f2f6f7d791fd3fbe"
   }
  }
 },
 "nbformat": 4,
 "nbformat_minor": 2
}
